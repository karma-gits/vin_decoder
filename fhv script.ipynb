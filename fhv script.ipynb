{
 "cells": [
  {
   "attachments": {},
   "cell_type": "markdown",
   "metadata": {},
   "source": [
    "# Import and extracting info on make, model and year for VIN number of the vechicle.\n",
    "\n",
    " data: https://data.cityofnewyork.us/Transportation/For-Hire-Vehicles-FHV-Active/8wbx-tsch\n",
    "### \n"
   ]
  },
  {
   "attachments": {},
   "cell_type": "markdown",
   "metadata": {},
   "source": [
    "1. import libraries, file "
   ]
  },
  {
   "cell_type": "code",
   "execution_count": 19,
   "metadata": {},
   "outputs": [],
   "source": [
    "import pandas as pd\n",
    "import os\n",
    "\n",
    "pwd = os.getcwd() # This creates a string of the folder this Python Script is stored in\n",
    "filepath = pwd + \"/For_Hire_Vehicles__FHV__-_Active.csv\" # This creates a string that is the filepath to the For_Hire_Vehicles__FHV__-_Active.csv file\n",
    "fhv_raw= pd.read_csv(filepath) # This reads the csv into Python"
   ]
  },
  {
   "attachments": {},
   "cell_type": "markdown",
   "metadata": {},
   "source": [
    "### 2. check datas and columns names"
   ]
  },
  {
   "cell_type": "code",
   "execution_count": null,
   "metadata": {},
   "outputs": [],
   "source": [
    "fhv_raw.head() #check top5 datas"
   ]
  },
  {
   "cell_type": "code",
   "execution_count": null,
   "metadata": {},
   "outputs": [],
   "source": [
    "fhv_raw.count() # numbes of rows/values in each columns"
   ]
  },
  {
   "attachments": {},
   "cell_type": "markdown",
   "metadata": {},
   "source": [
    "### 3. extracting only vin number into list"
   ]
  },
  {
   "cell_type": "code",
   "execution_count": 22,
   "metadata": {},
   "outputs": [],
   "source": [
    "fhv = fhv_raw['Vehicle VIN Number'].tolist() #extract only VIN number and convert it to a list type."
   ]
  },
  {
   "attachments": {},
   "cell_type": "markdown",
   "metadata": {},
   "source": [
    "### 4. (scrapping the web / parsing) Decoding the vin Numbers to \"Year Make Model ...\" <br/>\n",
    "** option A. i cant share website since i dont want vin-decode to get block in the future. ***(TOOK me 18hrs+ to decode all 95K+ vins)*** <br/> \n",
    "** option B. if you may less datas < 2000 vins Thes method should work just fine.\n"
   ]
  },
  {
   "attachments": {},
   "cell_type": "markdown",
   "metadata": {},
   "source": [
    "#### option A: if you can find the website go for it. only website is missing"
   ]
  },
  {
   "cell_type": "code",
   "execution_count": null,
   "metadata": {},
   "outputs": [],
   "source": [
    "import requests #\n",
    "from bs4 import BeautifulSoup #read the webpage\n",
    "\n",
    "webtarget = \"https://     e?vin=\"  # missing\n",
    "all_cars= []\n",
    "for car in fhv:\n",
    "    try:\n",
    "        source = requests.get(webtarget+car)\n",
    "        source.raise_for_status()\n",
    "        soup = BeautifulSoup(source.text)\n",
    "        info = soup.find('h2').text\n",
    "        all_cars.append(car+' ' +info)\n",
    "        #print(info)\n",
    "    except Exception as e:\n",
    "        print(e)\n",
    "#print(all_cars)\n",
    "all_cars=pd.Series(all_cars)"
   ]
  },
  {
   "attachments": {},
   "cell_type": "markdown",
   "metadata": {},
   "source": [
    "#### option B: API method for data < 2000 (for more info https://vpic.nhtsa.dot.gov/api/)\n",
    "pip install pyvin #install pyvin first"
   ]
  },
  {
   "cell_type": "code",
   "execution_count": 70,
   "metadata": {},
   "outputs": [
    {
     "name": "stdout",
     "output_type": "stream",
     "text": [
      "0    INFINITI QX80 2018\n",
      "1     TOYOTA Camry 2017\n",
      "2    TOYOTA Sienna 2013\n",
      "3      LINCOLN MKS 2015\n",
      "4     CADILLAC XT6 2021\n",
      "5    TOYOTA Sienna 2020\n",
      "dtype: object\n"
     ]
    }
   ],
   "source": [
    "from pyvin import VIN\n",
    "all_cars= []\n",
    "sample_vins = ['JN8AZ2NE9J9194149','4T1BF1FK2HU438475','5TDKK3DC0DS371798','1LNHL9EK7FG605508','1GYKPDRS1MZ173120','5TDZZ3DC4LS051568']\n",
    "for vins in sample_vins:\n",
    "    try:\n",
    "        car = VIN(vins) \n",
    "        all_cars.append(car.Make + \" \" +car.Model + \" \"+ car.ModelYear) # i want data string like 'TOYOTA Camry 2017'\n",
    "    except Exception as e:\n",
    "        print(e)\n",
    "all_cars=pd.Series(all_cars) #convert from list to seires\n",
    "print(all_cars)\n"
   ]
  },
  {
   "attachments": {},
   "cell_type": "markdown",
   "metadata": {},
   "source": [
    "## 6. export the final car infos"
   ]
  },
  {
   "attachments": {},
   "cell_type": "markdown",
   "metadata": {},
   "source": [
    "(a) to csv files"
   ]
  },
  {
   "cell_type": "code",
   "execution_count": 71,
   "metadata": {},
   "outputs": [],
   "source": [
    "all_cars.to_csv('all_cars.csv',header=False, index=False)  # export to all_cars.csv file"
   ]
  },
  {
   "attachments": {},
   "cell_type": "markdown",
   "metadata": {},
   "source": [
    "(b) export file to excel"
   ]
  },
  {
   "cell_type": "code",
   "execution_count": 72,
   "metadata": {},
   "outputs": [],
   "source": [
    "import openpyxl #import lib to export excel format\n",
    "all_cars.to_excel('all_cars.xlsx', index=False)"
   ]
  }
 ],
 "metadata": {
  "kernelspec": {
   "display_name": "Python 3",
   "language": "python",
   "name": "python3"
  },
  "language_info": {
   "codemirror_mode": {
    "name": "ipython",
    "version": 3
   },
   "file_extension": ".py",
   "mimetype": "text/x-python",
   "name": "python",
   "nbconvert_exporter": "python",
   "pygments_lexer": "ipython3",
   "version": "3.10.8 | packaged by conda-forge | (main, Nov 24 2022, 14:07:00) [MSC v.1916 64 bit (AMD64)]"
  },
  "orig_nbformat": 4,
  "vscode": {
   "interpreter": {
    "hash": "20488deeaacc197ec71504c78eca63138e9d01197efab337da46f30c756ab54e"
   }
  }
 },
 "nbformat": 4,
 "nbformat_minor": 2
}
